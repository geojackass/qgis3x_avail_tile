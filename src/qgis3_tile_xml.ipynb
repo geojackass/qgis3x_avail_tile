{
 "cells": [
  {
   "cell_type": "code",
   "execution_count": 45,
   "metadata": {},
   "outputs": [],
   "source": [
    "import pandas as pd\n",
    "from string import Template"
   ]
  },
  {
   "cell_type": "code",
   "execution_count": 46,
   "metadata": {},
   "outputs": [],
   "source": [
    "df = pd.read_csv('sample.csv', header=None)"
   ]
  },
  {
   "cell_type": "code",
   "execution_count": 47,
   "metadata": {},
   "outputs": [
    {
     "data": {
      "text/html": [
       "<div>\n",
       "<style scoped>\n",
       "    .dataframe tbody tr th:only-of-type {\n",
       "        vertical-align: middle;\n",
       "    }\n",
       "\n",
       "    .dataframe tbody tr th {\n",
       "        vertical-align: top;\n",
       "    }\n",
       "\n",
       "    .dataframe thead th {\n",
       "        text-align: right;\n",
       "    }\n",
       "</style>\n",
       "<table border=\"1\" class=\"dataframe\">\n",
       "  <thead>\n",
       "    <tr style=\"text-align: right;\">\n",
       "      <th></th>\n",
       "      <th>0</th>\n",
       "      <th>1</th>\n",
       "      <th>2</th>\n",
       "      <th>3</th>\n",
       "      <th>4</th>\n",
       "      <th>5</th>\n",
       "    </tr>\n",
       "  </thead>\n",
       "  <tbody>\n",
       "    <tr>\n",
       "      <th>0</th>\n",
       "      <td>GoogleMaps</td>\n",
       "      <td>NaN</td>\n",
       "      <td>https://mt1.google.com/vt/lyrs=m&amp;x=%7Bx%7D&amp;y=%...</td>\n",
       "      <td>NaN</td>\n",
       "      <td>19</td>\n",
       "      <td>0</td>\n",
       "    </tr>\n",
       "    <tr>\n",
       "      <th>1</th>\n",
       "      <td>GoogleSatellite</td>\n",
       "      <td>NaN</td>\n",
       "      <td>https://mt1.google.com/vt/lyrs=s&amp;x=%7Bx%7D&amp;y=%...</td>\n",
       "      <td>NaN</td>\n",
       "      <td>19</td>\n",
       "      <td>0</td>\n",
       "    </tr>\n",
       "    <tr>\n",
       "      <th>2</th>\n",
       "      <td>GoogleTerrain</td>\n",
       "      <td>NaN</td>\n",
       "      <td>https://mt1.google.com/vt/lyrs=t&amp;x=%7Bx%7D&amp;y=%...</td>\n",
       "      <td>NaN</td>\n",
       "      <td>19</td>\n",
       "      <td>0</td>\n",
       "    </tr>\n",
       "    <tr>\n",
       "      <th>3</th>\n",
       "      <td>GoogleTerrainHybrid</td>\n",
       "      <td>NaN</td>\n",
       "      <td>https://mt1.google.com/vt/lyrs=p&amp;x=%7Bx%7D&amp;y=%...</td>\n",
       "      <td>NaN</td>\n",
       "      <td>19</td>\n",
       "      <td>0</td>\n",
       "    </tr>\n",
       "    <tr>\n",
       "      <th>4</th>\n",
       "      <td>GoogleSatelliteHybrid</td>\n",
       "      <td>NaN</td>\n",
       "      <td>https://mt1.google.com/vt/lyrs=y&amp;x=%7Bx%7D&amp;y=%...</td>\n",
       "      <td>NaN</td>\n",
       "      <td>19</td>\n",
       "      <td>0</td>\n",
       "    </tr>\n",
       "  </tbody>\n",
       "</table>\n",
       "</div>"
      ],
      "text/plain": [
       "                       0    1  \\\n",
       "0             GoogleMaps  NaN   \n",
       "1        GoogleSatellite  NaN   \n",
       "2          GoogleTerrain  NaN   \n",
       "3    GoogleTerrainHybrid  NaN   \n",
       "4  GoogleSatelliteHybrid  NaN   \n",
       "\n",
       "                                                   2   3   4  5  \n",
       "0  https://mt1.google.com/vt/lyrs=m&x=%7Bx%7D&y=%... NaN  19  0  \n",
       "1  https://mt1.google.com/vt/lyrs=s&x=%7Bx%7D&y=%... NaN  19  0  \n",
       "2  https://mt1.google.com/vt/lyrs=t&x=%7Bx%7D&y=%... NaN  19  0  \n",
       "3  https://mt1.google.com/vt/lyrs=p&x=%7Bx%7D&y=%... NaN  19  0  \n",
       "4  https://mt1.google.com/vt/lyrs=y&x=%7Bx%7D&y=%... NaN  19  0  "
      ]
     },
     "execution_count": 47,
     "metadata": {},
     "output_type": "execute_result"
    }
   ],
   "source": [
    "df.head()"
   ]
  },
  {
   "cell_type": "code",
   "execution_count": 48,
   "metadata": {},
   "outputs": [
    {
     "name": "stdout",
     "output_type": "stream",
     "text": [
      "<xyztiles username=\"\" name=\"GoogleMaps\" password=\"\" authcfg=\"\" zmin=\"0\" referer=\"\" url=\"https://mt1.google.com/vt/lyrs=m&x=%7Bx%7D&y=%7By%7D&z=%7Bz%7D\" zmax=\"19\"/>\n",
      "<xyztiles username=\"\" name=\"GoogleSatellite\" password=\"\" authcfg=\"\" zmin=\"0\" referer=\"\" url=\"https://mt1.google.com/vt/lyrs=s&x=%7Bx%7D&y=%7By%7D&z=%7Bz%7D\" zmax=\"19\"/>\n",
      "<xyztiles username=\"\" name=\"GoogleTerrain\" password=\"\" authcfg=\"\" zmin=\"0\" referer=\"\" url=\"https://mt1.google.com/vt/lyrs=t&x=%7Bx%7D&y=%7By%7D&z=%7Bz%7D\" zmax=\"19\"/>\n",
      "<xyztiles username=\"\" name=\"GoogleTerrainHybrid\" password=\"\" authcfg=\"\" zmin=\"0\" referer=\"\" url=\"https://mt1.google.com/vt/lyrs=p&x=%7Bx%7D&y=%7By%7D&z=%7Bz%7D\" zmax=\"19\"/>\n",
      "<xyztiles username=\"\" name=\"GoogleSatelliteHybrid\" password=\"\" authcfg=\"\" zmin=\"0\" referer=\"\" url=\"https://mt1.google.com/vt/lyrs=y&x=%7Bx%7D&y=%7By%7D&z=%7Bz%7D\" zmax=\"19\"/>\n",
      "<xyztiles username=\"\" name=\"WikimediaMap\" password=\"\" authcfg=\"\" zmin=\"1\" referer=\"\" url=\"https://maps.wikimedia.org/osm-intl/%7Bz%7D/%7Bx%7D/%7By%7D.png\" zmax=\"20\"/>\n"
     ]
    }
   ],
   "source": [
    "t = Template('<xyztiles username=\"\" name=\"$name\" password=\"\" authcfg=\"\" zmin=\"$zmin\" referer=\"\" url=\"$url\" zmax=\"$zmax\"/>')\n",
    "\n",
    "for i in df:\n",
    "    print(t.substitute(name=df[0][i], zmin=df[5][i], zmax=df[4][i], url=df[2][i]))"
   ]
  },
  {
   "cell_type": "code",
   "execution_count": null,
   "metadata": {},
   "outputs": [],
   "source": []
  }
 ],
 "metadata": {
  "kernelspec": {
   "display_name": "Python 3",
   "language": "python",
   "name": "python3"
  },
  "language_info": {
   "codemirror_mode": {
    "name": "ipython",
    "version": 3
   },
   "file_extension": ".py",
   "mimetype": "text/x-python",
   "name": "python",
   "nbconvert_exporter": "python",
   "pygments_lexer": "ipython3",
   "version": "3.6.4"
  }
 },
 "nbformat": 4,
 "nbformat_minor": 2
}
